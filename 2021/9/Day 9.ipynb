{
 "cells": [
  {
   "cell_type": "code",
   "execution_count": 40,
   "id": "d0d3db9a",
   "metadata": {},
   "outputs": [
    {
     "data": {
      "text/html": [
       "<span style=\"white-space:pre; font-family: monospace\">2 1 9 9 9 4 3 2 1 0\n",
       "3 9 8 7 8 9 4 9 2 1\n",
       "9 8 5 6 7 8 9 8 9 2\n",
       "8 7 6 7 8 9 6 7 8 9\n",
       "9 8 9 9 9 6 5 6 7 8\n",
       "</span>"
      ]
     },
     "execution_count": 40,
     "metadata": {},
     "output_type": "execute_result"
    }
   ],
   "source": [
    "⊢d←⍎¨↑1⊂¨('2199943210')('3987894921')('9856789892')('8767896789')('9899965678')"
   ]
  },
  {
   "cell_type": "code",
   "execution_count": 223,
   "id": "38c746fc",
   "metadata": {},
   "outputs": [
    {
     "data": {
      "text/html": [
       "<span style=\"white-space:pre; font-family: monospace\">Was ON -style=max\n",
       "</span>"
      ]
     },
     "execution_count": 223,
     "metadata": {},
     "output_type": "execute_result"
    }
   ],
   "source": [
    "]box on -style=min"
   ]
  },
  {
   "cell_type": "code",
   "execution_count": 324,
   "id": "2c3a6ed1",
   "metadata": {},
   "outputs": [
    {
     "data": {
      "text/html": [
       "<span style=\"white-space:pre; font-family: monospace\">┌─────┬─────┬─────┬─────┬─────┬─────┬─────┬─────┬─────┬─────┐\n",
       "│┌───┐│┌───┐│┌───┐│┌───┐│┌───┐│┌───┐│┌───┐│┌───┐│┌───┐│┌───┐│\n",
       "││2 3│││2 2│││2 1│││3 2│││2 3│││2 3│││2 3│││2 3│││2 3│││2 2││\n",
       "│└───┘│└───┘│└───┘│└───┘│└───┘│└───┘│└───┘│└───┘│└───┘│└───┘│\n",
       "├─────┼─────┼─────┼─────┼─────┼─────┼─────┼─────┼─────┼─────┤\n",
       "│┌───┐│┌───┐│┌───┐│┌───┐│┌───┐│┌───┐│┌───┐│┌───┐│┌───┐│┌───┐│\n",
       "││1 3│││1 2│││1 1│││3 1│││1 3│││1 3│││1 3│││1 3│││1 3│││1 2││\n",
       "│└───┘│└───┘│└───┘│└───┘│└───┘│└───┘│└───┘│└───┘│└───┘│└───┘│\n",
       "├─────┼─────┼─────┼─────┼─────┼─────┼─────┼─────┼─────┼─────┤\n",
       "│┌───┐│┌───┐│┌───┐│┌───┐│┌───┐│┌───┐│┌───┐│┌───┐│┌───┐│┌───┐│\n",
       "││1 2│││1 1│││2 2│││2 1│││2 1│││1 3│││1 2│││1 3│││1 3│││1 2││\n",
       "│└───┘│└───┘│└───┘│└───┘│└───┘│└───┘│└───┘│└───┘│└───┘│└───┘│\n",
       "├─────┼─────┼─────┼─────┼─────┼─────┼─────┼─────┼─────┼─────┤\n",
       "│┌───┐│┌───┐│┌───┐│┌───┐│┌───┐│┌───┐│┌───┐│┌───┐│┌───┐│┌───┐│\n",
       "││2 3│││1 3│││1 2│││1 1│││1 1│││3 3│││3 2│││3 1│││1 3│││1 2││\n",
       "│└───┘│└───┘│└───┘│└───┘│└───┘│└───┘│└───┘│└───┘│└───┘│└───┘│\n",
       "├─────┼─────┼─────┼─────┼─────┼─────┼─────┼─────┼─────┼─────┤\n",
       "│┌───┐│┌───┐│┌───┐│┌───┐│┌───┐│┌───┐│┌───┐│┌───┐│┌───┐│┌───┐│\n",
       "││1 3│││1 3│││1 2│││1 1│││2 3│││2 3│││2 2│││2 1│││2 1│││2 1││\n",
       "│└───┘│└───┘│└───┘│└───┘│└───┘│└───┘│└───┘│└───┘│└───┘│└───┘│\n",
       "└─────┴─────┴─────┴─────┴─────┴─────┴─────┴─────┴─────┴─────┘\n",
       "</span>"
      ]
     },
     "execution_count": 324,
     "metadata": {},
     "output_type": "execute_result"
    }
   ],
   "source": [
    "{⊂1↑((⌊⌿⌊/) (⍸⍷) ⊢)99+⍵}⌺3 3⊢99-⍨d"
   ]
  },
  {
   "cell_type": "code",
   "execution_count": 255,
   "id": "e9131988",
   "metadata": {},
   "outputs": [
    {
     "data": {
      "text/html": [
       "<span style=\"white-space:pre; font-family: monospace\">┌──────┼──────┐   \n",
       "(⊂2⍴2) ≡ ┌────┼──┐\n",
       "       ┌─┴─┐ ┌┴┐ ⊢\n",
       "       ⌿   / ⍸ ⍷  \n",
       "     ┌─┘ ┌─┘      \n",
       "     ⌊   ⌊        \n",
       "</span>"
      ]
     },
     "execution_count": 255,
     "metadata": {},
     "output_type": "execute_result"
    }
   ],
   "source": [
    "(⊂2 2)≡((⌊⌿⌊/) (⍸⍷) ⊢)"
   ]
  },
  {
   "cell_type": "code",
   "execution_count": 245,
   "id": "0f6de998",
   "metadata": {},
   "outputs": [
    {
     "data": {
      "text/html": [
       "<span style=\"white-space:pre; font-family: monospace\">1\n",
       "</span>"
      ]
     },
     "execution_count": 245,
     "metadata": {},
     "output_type": "execute_result"
    }
   ],
   "source": [
    "(⊢ ⊃⍨ (⌊⌿⌊/) (⍸⍷) ⊢) 3 3⍴99 99 99 2 1 9 3 9 8"
   ]
  },
  {
   "cell_type": "code",
   "execution_count": 193,
   "id": "f381827a",
   "metadata": {},
   "outputs": [
    {
     "data": {
      "text/html": [
       "<span style=\"white-space:pre; font-family: monospace\">┌→────────────┐\n",
       "│ ┌→──┐ ┌→──┐ │\n",
       "│ │1 2│ │2 2│ │\n",
       "│ └~──┘ └~──┘ │\n",
       "└∊────────────┘\n",
       "</span>"
      ]
     },
     "execution_count": 193,
     "metadata": {},
     "output_type": "execute_result"
    }
   ],
   "source": [
    "1(⍸⍷)(2 2⍴2 1 3 1)"
   ]
  },
  {
   "cell_type": "code",
   "execution_count": 239,
   "id": "12c1fe89",
   "metadata": {},
   "outputs": [
    {
     "data": {
      "text/html": [
       "<span style=\"white-space:pre; font-family: monospace\">2\n",
       "</span>"
      ]
     },
     "execution_count": 239,
     "metadata": {},
     "output_type": "execute_result"
    }
   ],
   "source": [
    "(⊂1 2)⊃(2 2⍴⍳4)"
   ]
  },
  {
   "cell_type": "markdown",
   "id": "5653e43a",
   "metadata": {},
   "source": [
    "## Theirs"
   ]
  },
  {
   "cell_type": "code",
   "execution_count": 338,
   "id": "eb08f516",
   "metadata": {},
   "outputs": [
    {
     "data": {
      "text/html": [
       "<span style=\"white-space:pre; font-family: monospace\">┌───┬───┬───┬───┐\n",
       "│0 1│0 9│2 2│4 6│\n",
       "└───┴───┴───┴───┘\n",
       "</span>"
      ]
     },
     "execution_count": 338,
     "metadata": {},
     "output_type": "execute_result"
    }
   ],
   "source": [
    "⎕IO←0\n",
    "window ← {aa ← ⍺⍺ ⋄ {⍵[1;1] aa ,⍵×3 3⍴⍳2}⌺3 3⊢⍵}\n",
    "\n",
    "⍸ ∧.> window 9-d"
   ]
  },
  {
   "cell_type": "code",
   "execution_count": null,
   "id": "c1d9ad02",
   "metadata": {},
   "outputs": [],
   "source": []
  }
 ],
 "metadata": {
  "kernelspec": {
   "display_name": "Dyalog APL",
   "language": "apl",
   "name": "dyalog-kernel"
  },
  "language_info": {
   "file_extension": ".apl",
   "mimetype": "text/apl",
   "name": "APL"
  }
 },
 "nbformat": 4,
 "nbformat_minor": 5
}
