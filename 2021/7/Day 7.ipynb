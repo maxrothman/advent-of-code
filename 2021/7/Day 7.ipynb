{
 "cells": [
  {
   "cell_type": "code",
   "execution_count": 24,
   "id": "4206088a",
   "metadata": {},
   "outputs": [
    {
     "data": {
      "text/html": [
       "<span style=\"white-space:pre; font-family: monospace\">5\n",
       "</span>"
      ]
     },
     "execution_count": 24,
     "metadata": {},
     "output_type": "execute_result"
    },
    {
     "data": {
      "text/html": [
       "<span style=\"white-space:pre; font-family: monospace\">45\n",
       "</span>"
      ]
     },
     "execution_count": 24,
     "metadata": {},
     "output_type": "execute_result"
    }
   ],
   "source": [
    "⊢avg←(⌊0.5+⊢)(+/÷≢)d\n",
    "+/|d-avg\n",
    "⍝ This doesn't work, I'm looking for a desired pos of 2 with 37 fuel"
   ]
  },
  {
   "cell_type": "code",
   "execution_count": 35,
   "id": "acfcec6a",
   "metadata": {},
   "outputs": [],
   "source": [
    "⎕IO←0"
   ]
  },
  {
   "cell_type": "code",
   "execution_count": 57,
   "id": "781de954",
   "metadata": {},
   "outputs": [
    {
     "data": {
      "text/html": [
       "<span style=\"white-space:pre; font-family: monospace\">16 1 2 0 4 2 7 1 2 14\n",
       "</span>"
      ]
     },
     "execution_count": 57,
     "metadata": {},
     "output_type": "execute_result"
    }
   ],
   "source": [
    "d"
   ]
  },
  {
   "cell_type": "code",
   "execution_count": 56,
   "id": "3b870608",
   "metadata": {},
   "outputs": [
    {
     "data": {
      "text/html": [
       "<span style=\"white-space:pre; font-family: monospace\"> 0  0  1  2  3  4  5  6  7  8  9  10  11  12  13  14  15  16\n",
       "16 16 15 14 13 12 11 10  9  8  7   6   5   4   3   2   1   0\n",
       " 1  1  0 ¯1 ¯2 ¯3 ¯4 ¯5 ¯6 ¯7 ¯8  ¯9 ¯10 ¯11 ¯12 ¯13 ¯14 ¯15\n",
       " 2  2  1  0 ¯1 ¯2 ¯3 ¯4 ¯5 ¯6 ¯7  ¯8  ¯9 ¯10 ¯11 ¯12 ¯13 ¯14\n",
       " 0  0 ¯1 ¯2 ¯3 ¯4 ¯5 ¯6 ¯7 ¯8 ¯9 ¯10 ¯11 ¯12 ¯13 ¯14 ¯15 ¯16\n",
       " 4  4  3  2  1  0 ¯1 ¯2 ¯3 ¯4 ¯5  ¯6  ¯7  ¯8  ¯9 ¯10 ¯11 ¯12\n",
       " 2  2  1  0 ¯1 ¯2 ¯3 ¯4 ¯5 ¯6 ¯7  ¯8  ¯9 ¯10 ¯11 ¯12 ¯13 ¯14\n",
       " 7  7  6  5  4  3  2  1  0 ¯1 ¯2  ¯3  ¯4  ¯5  ¯6  ¯7  ¯8  ¯9\n",
       " 1  1  0 ¯1 ¯2 ¯3 ¯4 ¯5 ¯6 ¯7 ¯8  ¯9 ¯10 ¯11 ¯12 ¯13 ¯14 ¯15\n",
       " 2  2  1  0 ¯1 ¯2 ¯3 ¯4 ¯5 ¯6 ¯7  ¯8  ¯9 ¯10 ¯11 ¯12 ¯13 ¯14\n",
       "14 14 13 12 11 10  9  8  7  6  5   4   3   2   1   0  ¯1  ¯2\n",
       "</span>"
      ]
     },
     "execution_count": 56,
     "metadata": {},
     "output_type": "execute_result"
    }
   ],
   "source": [
    "cp←d∘.-⍳1+⌈/d\n",
    "(0,d),(⍳17)⍪cp"
   ]
  },
  {
   "cell_type": "code",
   "execution_count": 59,
   "id": "2028021c",
   "metadata": {},
   "outputs": [
    {
     "data": {
      "text/html": [
       "<span style=\"white-space:pre; font-family: monospace\">37\n",
       "</span>"
      ]
     },
     "execution_count": 59,
     "metadata": {},
     "output_type": "execute_result"
    }
   ],
   "source": [
    "⌊/+⌿|¨cp"
   ]
  },
  {
   "cell_type": "code",
   "execution_count": 89,
   "id": "5c63d842",
   "metadata": {},
   "outputs": [],
   "source": [
    "sol←{⌊/+⌿|(⊢ ∘.- (⍳1+⌈/))⍵}"
   ]
  },
  {
   "cell_type": "markdown",
   "id": "4a1735a7",
   "metadata": {},
   "source": [
    "## Test data"
   ]
  },
  {
   "cell_type": "code",
   "execution_count": 103,
   "id": "40095e06",
   "metadata": {},
   "outputs": [
    {
     "data": {
      "text/html": [
       "<span style=\"white-space:pre; font-family: monospace\">16 1 2 0 4 2 7 1 2 14\n",
       "</span>"
      ]
     },
     "execution_count": 103,
     "metadata": {},
     "output_type": "execute_result"
    }
   ],
   "source": [
    "⊢d←⍎¨(','∘≠ ⊆ ⊢)'16,1,2,0,4,2,7,1,2,14'"
   ]
  },
  {
   "cell_type": "code",
   "execution_count": 77,
   "id": "7d918ad0",
   "metadata": {},
   "outputs": [
    {
     "data": {
      "text/html": [
       "<span style=\"white-space:pre; font-family: monospace\">37\n",
       "</span>"
      ]
     },
     "execution_count": 77,
     "metadata": {},
     "output_type": "execute_result"
    }
   ],
   "source": [
    "sol d"
   ]
  },
  {
   "cell_type": "markdown",
   "id": "b6e954d8",
   "metadata": {},
   "source": [
    "## Real data"
   ]
  },
  {
   "cell_type": "code",
   "execution_count": 87,
   "id": "a4f482a8",
   "metadata": {},
   "outputs": [],
   "source": [
    "d←⍎¨(','∘≠ ⊆ ⊢)⊃⊃⎕NGET'input.txt'1"
   ]
  },
  {
   "cell_type": "markdown",
   "id": "e608cd1d",
   "metadata": {},
   "source": [
    "### Part A"
   ]
  },
  {
   "cell_type": "code",
   "execution_count": 90,
   "id": "6656328f",
   "metadata": {},
   "outputs": [
    {
     "data": {
      "text/html": [
       "<span style=\"white-space:pre; font-family: monospace\">352707\n",
       "</span>"
      ]
     },
     "execution_count": 90,
     "metadata": {},
     "output_type": "execute_result"
    }
   ],
   "source": [
    "sol d"
   ]
  },
  {
   "cell_type": "markdown",
   "id": "6437b044",
   "metadata": {},
   "source": [
    "### Part B"
   ]
  },
  {
   "cell_type": "code",
   "execution_count": 99,
   "id": "3a66c3ee",
   "metadata": {},
   "outputs": [
    {
     "data": {
      "text/html": [
       "<span style=\"white-space:pre; font-family: monospace\">95519693\n",
       "</span>"
      ]
     },
     "execution_count": 99,
     "metadata": {},
     "output_type": "execute_result"
    }
   ],
   "source": [
    "{⌊/+⌿(÷∘2×1∘+)|(⊢ ∘.- (⍳1+⌈/))⍵}d"
   ]
  },
  {
   "cell_type": "code",
   "execution_count": 139,
   "id": "e091c8aa",
   "metadata": {},
   "outputs": [
    {
     "data": {
      "text/html": [
       "<span style=\"white-space:pre; font-family: monospace\">37\n",
       "</span>"
      ]
     },
     "execution_count": 139,
     "metadata": {},
     "output_type": "execute_result"
    },
    {
     "data": {
      "text/html": [
       "<span style=\"white-space:pre; font-family: monospace\">168\n",
       "</span>"
      ]
     },
     "execution_count": 139,
     "metadata": {},
     "output_type": "execute_result"
    }
   ],
   "source": [
    "sol1←(⌊/+⌿)∘| ⊢ ∘.- (⍳1+⌈/)\n",
    "sol2←(⌊/+⌿)∘(÷∘2 × 1∘+)∘| ⊢ ∘.- (⍳1+⌈/)\n",
    "sol1 d\n",
    "sol2 d"
   ]
  },
  {
   "cell_type": "code",
   "execution_count": 140,
   "id": "39d0ba77",
   "metadata": {},
   "outputs": [
    {
     "data": {
      "text/html": [
       "<span style=\"white-space:pre; font-family: monospace\">      ┌──┴──┐         \n",
       "      ∘   ┌─┼────┐    \n",
       "    ┌─┴─┐ ⊢ .  ┌─┴─┐  \n",
       "  ┌─┴─┐ |  ┌┴┐ ⍳ ┌─┼─┐\n",
       "  /   ⌿    ∘ -   1 + /\n",
       "┌─┘ ┌─┘            ┌─┘\n",
       "⌊   +              ⌈  \n",
       "</span>"
      ]
     },
     "execution_count": 140,
     "metadata": {},
     "output_type": "execute_result"
    }
   ],
   "source": [
    "sol1"
   ]
  },
  {
   "cell_type": "code",
   "execution_count": 141,
   "id": "cc731798",
   "metadata": {},
   "outputs": [
    {
     "data": {
      "text/html": [
       "<span style=\"white-space:pre; font-family: monospace\">16 1 2 0 4 2 7 1 2 14\n",
       "</span>"
      ]
     },
     "execution_count": 141,
     "metadata": {},
     "output_type": "execute_result"
    }
   ],
   "source": [
    "d"
   ]
  },
  {
   "cell_type": "code",
   "execution_count": null,
   "id": "27b77313",
   "metadata": {},
   "outputs": [],
   "source": []
  }
 ],
 "metadata": {
  "kernelspec": {
   "display_name": "Dyalog APL",
   "language": "apl",
   "name": "dyalog-kernel"
  },
  "language_info": {
   "file_extension": ".apl",
   "mimetype": "text/apl",
   "name": "APL"
  }
 },
 "nbformat": 4,
 "nbformat_minor": 5
}
