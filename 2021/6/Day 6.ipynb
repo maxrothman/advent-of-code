{
 "cells": [
  {
   "cell_type": "code",
   "execution_count": 1,
   "id": "a3fc3aa7",
   "metadata": {},
   "outputs": [
    {
     "data": {
      "text/html": [
       "<span style=\"white-space:pre; font-family: monospace\">Rebuilding user command cache... done\n",
       "</span>"
      ]
     },
     "execution_count": 1,
     "metadata": {},
     "output_type": "execute_result"
    }
   ],
   "source": [
    "⎕IO←0"
   ]
  },
  {
   "cell_type": "markdown",
   "id": "83399897",
   "metadata": {},
   "source": [
    "## Test data"
   ]
  },
  {
   "cell_type": "code",
   "execution_count": 114,
   "id": "371ed12b",
   "metadata": {},
   "outputs": [
    {
     "data": {
      "text/html": [
       "<span style=\"white-space:pre; font-family: monospace\">0 1 1 2 1 0 0 0 0\n",
       "</span>"
      ]
     },
     "execution_count": 114,
     "metadata": {},
     "output_type": "execute_result"
    }
   ],
   "source": [
    "⊢d←+/(⍳9) ∘.= ⍎¨{(⍵∊⎕D)⊆⍵}'3,4,3,1,2'"
   ]
  },
  {
   "cell_type": "code",
   "execution_count": 133,
   "id": "7e2344cc",
   "metadata": {},
   "outputs": [],
   "source": [
    "g←{{((¯1↑⍵)∘+)@6 ⊢⍵} 1⌽⍵}"
   ]
  },
  {
   "cell_type": "code",
   "execution_count": 116,
   "id": "c21472b6",
   "metadata": {},
   "outputs": [
    {
     "data": {
      "text/html": [
       "<span style=\"white-space:pre; font-family: monospace\">0 1 1 2 1 0 0 0 0\n",
       "1 1 2 1 0 0 0 0 0\n",
       "1 2 1 0 0 0 1 0 1\n",
       "2 1 0 0 0 1 1 1 1\n",
       "1 0 0 0 1 1 3 1 2\n",
       "</span>"
      ]
     },
     "execution_count": 116,
     "metadata": {},
     "output_type": "execute_result"
    }
   ],
   "source": [
    "↑{g⍣⍵⊢d}¨⍳5"
   ]
  },
  {
   "cell_type": "code",
   "execution_count": 139,
   "id": "22c7e844",
   "metadata": {},
   "outputs": [],
   "source": [
    "sol←{+/g⍣⍺⊢⍵}"
   ]
  },
  {
   "cell_type": "markdown",
   "id": "747d6eb3",
   "metadata": {},
   "source": [
    "## Real data"
   ]
  },
  {
   "cell_type": "code",
   "execution_count": 135,
   "id": "1bba146d",
   "metadata": {},
   "outputs": [],
   "source": [
    "d←+/(⍳9) ∘.= ⍎⊃⊃⎕NGET'input.txt'1"
   ]
  },
  {
   "cell_type": "markdown",
   "id": "5370e3b4",
   "metadata": {},
   "source": [
    "### Part A"
   ]
  },
  {
   "cell_type": "code",
   "execution_count": 140,
   "id": "e24834db",
   "metadata": {},
   "outputs": [
    {
     "data": {
      "text/html": [
       "<span style=\"white-space:pre; font-family: monospace\">350605\n",
       "</span>"
      ]
     },
     "execution_count": 140,
     "metadata": {},
     "output_type": "execute_result"
    }
   ],
   "source": [
    "80 sol d"
   ]
  },
  {
   "cell_type": "markdown",
   "id": "8c32ce76",
   "metadata": {},
   "source": [
    "### Part B"
   ]
  },
  {
   "cell_type": "code",
   "execution_count": 144,
   "id": "ec58b34a",
   "metadata": {},
   "outputs": [
    {
     "data": {
      "text/html": [
       "<span style=\"white-space:pre; font-family: monospace\">1592778185024\n",
       "</span>"
      ]
     },
     "execution_count": 144,
     "metadata": {},
     "output_type": "execute_result"
    }
   ],
   "source": [
    "⎕PP←17\n",
    "256 sol d"
   ]
  }
 ],
 "metadata": {
  "kernelspec": {
   "display_name": "Dyalog APL",
   "language": "apl",
   "name": "dyalog-kernel"
  },
  "language_info": {
   "file_extension": ".apl",
   "mimetype": "text/apl",
   "name": "APL"
  }
 },
 "nbformat": 4,
 "nbformat_minor": 5
}
