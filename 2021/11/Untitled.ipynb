{
 "cells": [
  {
   "cell_type": "code",
   "execution_count": 3,
   "id": "ae96cae4",
   "metadata": {},
   "outputs": [
    {
     "data": {
      "text/html": [
       "<span style=\"white-space:pre; font-family: monospace\">5 4 8 3 1 4 3 2 2 3\n",
       "2 7 4 5 8 5 4 7 1 1\n",
       "5 2 6 4 5 5 6 1 7 3\n",
       "6 1 4 1 3 3 6 1 4 6\n",
       "6 3 5 7 3 8 5 4 7 8\n",
       "4 1 6 7 5 2 4 6 4 5\n",
       "2 1 7 6 8 4 1 7 2 1\n",
       "6 8 8 2 8 8 1 1 3 4\n",
       "4 8 4 6 8 4 8 5 5 4\n",
       "5 2 8 3 7 5 1 5 2 6\n",
       "</span>"
      ]
     },
     "execution_count": 3,
     "metadata": {},
     "output_type": "execute_result"
    }
   ],
   "source": [
    "⊢input←↑(5 4 8 3 1 4 3 2 2 3)(2 7 4 5 8 5 4 7 1 1)(5 2 6 4 5 5 6 1 7 3)(6 1 4 1 3 3 6 1 4 6)(6 3 5 7 3 8 5 4 7 8)(4 1 6 7 5 2 4 6 4 5)(2 1 7 6 8 4 1 7 2 1)(6 8 8 2 8 8 1 1 3 4)(4 8 4 6 8 4 8 5 5 4)(5 2 8 3 7 5 1 5 2 6)"
   ]
  },
  {
   "cell_type": "code",
   "execution_count": 5,
   "id": "38d533ae",
   "metadata": {},
   "outputs": [
    {
     "data": {
      "text/html": [
       "<span style=\"white-space:pre; font-family: monospace\">6 5 9 4 2 5 4 3 3 4\n",
       "3 8 5 6 9 6 5 8 2 2\n",
       "6 3 7 5 6 6 7 2 8 4\n",
       "7 2 5 2 4 4 7 2 5 7\n",
       "7 4 6 8 4 9 6 5 8 9\n",
       "5 2 7 8 6 3 5 7 5 6\n",
       "3 2 8 7 9 5 2 8 3 2\n",
       "7 9 9 3 9 9 2 2 4 5\n",
       "5 9 5 7 9 5 9 6 6 5\n",
       "6 3 9 4 8 6 2 6 3 7\n",
       "</span>"
      ]
     },
     "execution_count": 5,
     "metadata": {},
     "output_type": "execute_result"
    }
   ],
   "source": [
    "1+input"
   ]
  }
 ],
 "metadata": {
  "kernelspec": {
   "display_name": "Dyalog APL",
   "language": "apl",
   "name": "dyalog-kernel"
  },
  "language_info": {
   "file_extension": ".apl",
   "mimetype": "text/apl",
   "name": "APL"
  }
 },
 "nbformat": 4,
 "nbformat_minor": 5
}
