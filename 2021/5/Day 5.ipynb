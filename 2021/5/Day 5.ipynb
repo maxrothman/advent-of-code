{
 "cells": [
  {
   "cell_type": "code",
   "execution_count": 105,
   "id": "ea3dbec4",
   "metadata": {},
   "outputs": [
    {
     "data": {
      "text/html": [
       "<span style=\"white-space:pre; font-family: monospace\">Was ON -style=max\n",
       "</span>"
      ]
     },
     "execution_count": 105,
     "metadata": {},
     "output_type": "execute_result"
    }
   ],
   "source": [
    "⎕IO←0\n",
    "]box on -style=min"
   ]
  },
  {
   "cell_type": "markdown",
   "id": "abf41a47",
   "metadata": {},
   "source": [
    "## Theirs"
   ]
  },
  {
   "cell_type": "code",
   "execution_count": 43,
   "id": "9da816ff",
   "metadata": {},
   "outputs": [
    {
     "data": {
      "text/html": [
       "<span style=\"white-space:pre; font-family: monospace\">┌───┬───┬───┬───┬───┬───┬───┬───┬───┬───┐\n",
       "│0 5│8 0│9 3│2 2│7 7│6 2│0 2│3 1│0 8│5 8│\n",
       "│9 9│0 8│4 4│2 1│0 4│4 0│9 9│4 4│0 8│5 2│\n",
       "└───┴───┴───┴───┴───┴───┴───┴───┴───┴───┘\n",
       "</span>"
      ]
     },
     "execution_count": 43,
     "metadata": {},
     "output_type": "execute_result"
    }
   ],
   "source": [
    "⊢n ← {⍉ 2 2⍴ ⍎¨ (⍵∊⎕D)⊆⍵}¨ ⊃⎕NGET'test-input.txt'1"
   ]
  },
  {
   "cell_type": "code",
   "execution_count": 44,
   "id": "8fbdf82d",
   "metadata": {},
   "outputs": [
    {
     "data": {
      "text/html": [
       "<span style=\"white-space:pre; font-family: monospace\">┌───┬───┬───┬───┬───┬───┬───┬───┬────┐\n",
       "│1 7│2 6│3 5│4 4│5 3│6 2│7 1│8 0│9 ¯1│\n",
       "└───┴───┴───┴───┴───┴───┴───┴───┴────┘\n",
       "</span>"
      ]
     },
     "execution_count": 44,
     "metadata": {},
     "output_type": "execute_result"
    }
   ],
   "source": [
    "{⊃,¨/ {⍺- (×d)× ⍳1+| d←⍺-⍵}/⍵}2 2⍴0 8 8 0"
   ]
  },
  {
   "cell_type": "code",
   "execution_count": 62,
   "id": "16049e94",
   "metadata": {},
   "outputs": [
    {
     "data": {
      "text/html": [
       "<span style=\"white-space:pre; font-family: monospace\">0 5\n",
       "9 9\n",
       "</span>"
      ]
     },
     "execution_count": 62,
     "metadata": {},
     "output_type": "execute_result"
    }
   ],
   "source": [
    "⊃n"
   ]
  },
  {
   "cell_type": "code",
   "execution_count": 138,
   "id": "672c759e",
   "metadata": {},
   "outputs": [
    {
     "data": {
      "text/html": [
       "<span style=\"white-space:pre; font-family: monospace\">┌───────┬───────────────┐\n",
       "│┌─────┐│┌─────────────┐│\n",
       "││2 3 4│││2 3 4 5 6 7 8││\n",
       "│└─────┘│└─────────────┘│\n",
       "└───────┴───────────────┘\n",
       "</span>"
      ]
     },
     "execution_count": 138,
     "metadata": {},
     "output_type": "execute_result"
    }
   ],
   "source": [
    "{⊃,¨/⍺- (×d)× ⍳1+| d←⍺-⍵}/(2 2⍴2 4 2 8)"
   ]
  },
  {
   "cell_type": "markdown",
   "id": "f35ec965",
   "metadata": {},
   "source": [
    "## Reference"
   ]
  },
  {
   "cell_type": "code",
   "execution_count": 15,
   "id": "7206ff23",
   "metadata": {},
   "outputs": [
    {
     "data": {
      "text/html": [
       "<span style=\"white-space:pre; font-family: monospace\">5 6 7 8  9\n",
       "6 7 8 9 10\n",
       "</span>"
      ]
     },
     "execution_count": 15,
     "metadata": {},
     "output_type": "execute_result"
    }
   ],
   "source": [
    "5 6 ∘.+ ⍳5"
   ]
  },
  {
   "cell_type": "code",
   "execution_count": 151,
   "id": "c2a33b34",
   "metadata": {},
   "outputs": [
    {
     "data": {
      "text/html": [
       "<span style=\"white-space:pre; font-family: monospace\">5 10 15 20 25\n",
       "</span>"
      ]
     },
     "execution_count": 151,
     "metadata": {},
     "output_type": "execute_result"
    }
   ],
   "source": [
    "+\\1 5⍴5"
   ]
  },
  {
   "cell_type": "markdown",
   "id": "df775f57",
   "metadata": {},
   "source": [
    "## Mine (test)"
   ]
  },
  {
   "cell_type": "code",
   "execution_count": 17,
   "id": "edb43837",
   "metadata": {},
   "outputs": [
    {
     "data": {
      "text/html": [
       "<span style=\"white-space:pre; font-family: monospace\">┌───┬───┬───┬───┬───┬───┬───┬───┬───┬───┐\n",
       "│0 9│8 0│9 4│2 2│7 0│6 4│0 9│3 4│0 0│5 5│\n",
       "│5 9│0 8│3 4│2 1│7 4│2 0│2 9│1 4│8 8│8 2│\n",
       "└───┴───┴───┴───┴───┴───┴───┴───┴───┴───┘\n",
       "</span>"
      ]
     },
     "execution_count": 17,
     "metadata": {},
     "output_type": "execute_result"
    }
   ],
   "source": [
    "⊢d←2 2∘⍴¨⍎¨¨{(⎕D∊⍨⍵)⊆⍵}¨ ⊃⎕NGET'test-input.txt'1"
   ]
  },
  {
   "cell_type": "code",
   "execution_count": 2,
   "id": "f0596ffe",
   "metadata": {},
   "outputs": [
    {
     "data": {
      "text/html": [
       "<span style=\"white-space:pre; font-family: monospace\">1\n",
       "</span>"
      ]
     },
     "execution_count": 2,
     "metadata": {},
     "output_type": "execute_result"
    }
   ],
   "source": [
    "⍝ Do all the lines have a slope of 1/0, 0/1, or 1/1?\n",
    "∧/{({=/|¨⍵}∨{1=+/0=⍵})-⌿⍵}¨d\n"
   ]
  },
  {
   "cell_type": "code",
   "execution_count": 3,
   "id": "2b1420d0",
   "metadata": {},
   "outputs": [],
   "source": [
    "⎕IO←0"
   ]
  },
  {
   "cell_type": "code",
   "execution_count": 16,
   "id": "18678236",
   "metadata": {},
   "outputs": [
    {
     "data": {
      "text/html": [
       "<span style=\"white-space:pre; font-family: monospace\">2 3 4\n",
       "</span>"
      ]
     },
     "execution_count": 16,
     "metadata": {},
     "output_type": "execute_result"
    },
    {
     "data": {
      "text/html": [
       "<span style=\"white-space:pre; font-family: monospace\">4 3 2\n",
       "</span>"
      ]
     },
     "execution_count": 16,
     "metadata": {},
     "output_type": "execute_result"
    },
    {
     "data": {
      "text/html": [
       "<span style=\"white-space:pre; font-family: monospace\">0 ¯1 ¯2 ¯3 ¯4 ¯5\n",
       "</span>"
      ]
     },
     "execution_count": 16,
     "metadata": {},
     "output_type": "execute_result"
    },
    {
     "data": {
      "text/html": [
       "<span style=\"white-space:pre; font-family: monospace\">1\n",
       "</span>"
      ]
     },
     "execution_count": 16,
     "metadata": {},
     "output_type": "execute_result"
    }
   ],
   "source": [
    "⍝ generalized iota\n",
    "⍝ 4 i 2 ≡ 4 3 2\n",
    "i←{⍺+(× × (⍳1+|))⍵-⍺}\n",
    "2 i 4\n",
    "4 i 2\n",
    "0 i ¯5\n",
    "1 i 1"
   ]
  },
  {
   "cell_type": "code",
   "execution_count": 18,
   "id": "84b87f0b",
   "metadata": {},
   "outputs": [
    {
     "data": {
      "text/html": [
       "<span style=\"white-space:pre; font-family: monospace\">┌───┬───┬───┬───┬───┬───┬───┬───┬───┬───┐\n",
       "│0 9│8 0│9 4│2 2│7 0│6 4│0 9│3 4│0 0│5 5│\n",
       "│5 9│0 8│3 4│2 1│7 4│2 0│2 9│1 4│8 8│8 2│\n",
       "└───┴───┴───┴───┴───┴───┴───┴───┴───┴───┘\n",
       "</span>"
      ]
     },
     "execution_count": 18,
     "metadata": {},
     "output_type": "execute_result"
    }
   ],
   "source": [
    "d"
   ]
  },
  {
   "cell_type": "code",
   "execution_count": 68,
   "id": "b8b715c1",
   "metadata": {},
   "outputs": [],
   "source": [
    "sol←{+/{2≤≢⍵}⌸⊃,/⊃¨(,¨/i⌿)¨⍵}"
   ]
  },
  {
   "cell_type": "code",
   "execution_count": 67,
   "id": "48845e1a",
   "metadata": {},
   "outputs": [
    {
     "data": {
      "text/html": [
       "<span style=\"white-space:pre; font-family: monospace\">12\n",
       "</span>"
      ]
     },
     "execution_count": 67,
     "metadata": {},
     "output_type": "execute_result"
    }
   ],
   "source": [
    "sol d"
   ]
  },
  {
   "cell_type": "markdown",
   "id": "08d84caa",
   "metadata": {},
   "source": [
    "## Mine (real)"
   ]
  },
  {
   "cell_type": "code",
   "execution_count": 69,
   "id": "e3f500d1",
   "metadata": {},
   "outputs": [],
   "source": [
    "d←2 2∘⍴¨⍎¨¨{(⎕D∊⍨⍵)⊆⍵}¨ ⊃⎕NGET'input.txt'1"
   ]
  },
  {
   "cell_type": "markdown",
   "id": "c2efe4a9",
   "metadata": {},
   "source": [
    "### Part A"
   ]
  },
  {
   "cell_type": "code",
   "execution_count": 11,
   "id": "6441a6cc",
   "metadata": {},
   "outputs": [
    {
     "data": {
      "text/html": [
       "<span style=\"white-space:pre; font-family: monospace\">┌───┬───┬───┬───┬───┬───┬───┬───┬───┬───┐\n",
       "│0 9│8 0│9 4│2 2│7 0│6 4│0 9│3 4│0 0│5 5│\n",
       "│5 9│0 8│3 4│2 1│7 4│2 0│2 9│1 4│8 8│8 2│\n",
       "└───┴───┴───┴───┴───┴───┴───┴───┴───┴───┘\n",
       "</span>"
      ]
     },
     "execution_count": 11,
     "metadata": {},
     "output_type": "execute_result"
    }
   ],
   "source": [
    "d"
   ]
  },
  {
   "cell_type": "code",
   "execution_count": 70,
   "id": "d2abbed5",
   "metadata": {},
   "outputs": [
    {
     "data": {
      "text/html": [
       "<span style=\"white-space:pre; font-family: monospace\">5084\n",
       "</span>"
      ]
     },
     "execution_count": 70,
     "metadata": {},
     "output_type": "execute_result"
    }
   ],
   "source": [
    "d1←((∨/=⌿)¨d)/d\n",
    "sol d1"
   ]
  },
  {
   "cell_type": "markdown",
   "id": "398a3881",
   "metadata": {},
   "source": [
    "### Part B"
   ]
  },
  {
   "cell_type": "code",
   "execution_count": 71,
   "id": "1f44e9b8",
   "metadata": {},
   "outputs": [
    {
     "data": {
      "text/html": [
       "<span style=\"white-space:pre; font-family: monospace\">17882\n",
       "</span>"
      ]
     },
     "execution_count": 71,
     "metadata": {},
     "output_type": "execute_result"
    }
   ],
   "source": [
    "sol d"
   ]
  }
 ],
 "metadata": {
  "kernelspec": {
   "display_name": "Dyalog APL",
   "language": "apl",
   "name": "dyalog-kernel"
  },
  "language_info": {
   "file_extension": ".apl",
   "mimetype": "text/apl",
   "name": "APL"
  }
 },
 "nbformat": 4,
 "nbformat_minor": 5
}
